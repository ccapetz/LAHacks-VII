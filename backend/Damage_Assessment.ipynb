{
 "cells": [
  {
   "cell_type": "code",
   "execution_count": 7,
   "metadata": {},
   "outputs": [],
   "source": [
    "import os\n",
    "import cv2\n",
    "import numpy as np\n",
    "from sklearn.preprocessing import MinMaxScaler\n",
    "from sklearn.model_selection import train_test_split\n",
    "import tensorflow as tf\n",
    "from tensorflow import keras\n",
    "from keras import layers"
   ]
  },
  {
   "attachments": {},
   "cell_type": "markdown",
   "metadata": {},
   "source": [
    "### Data Preprocessing"
   ]
  },
  {
   "cell_type": "code",
   "execution_count": 13,
   "metadata": {},
   "outputs": [],
   "source": [
    "# Define the directories where the train and test data is stored\n",
    "train_dir = '../data/train'\n",
    "test_dir = '../data/test'\n",
    "\n",
    "# Define the image size\n",
    "img_size = 128\n",
    "\n",
    "# Function to load images and labels from a directory\n",
    "def load_data(directory):\n",
    "    images = []\n",
    "    labels = []\n",
    "    for folder in os.listdir(directory):\n",
    "        if folder == 'damage':\n",
    "            label = 1\n",
    "        elif folder == 'no_damage':\n",
    "            label = 0\n",
    "        else:\n",
    "            continue\n",
    "        for filename in os.listdir(os.path.join(directory, folder)):\n",
    "            img = cv2.imread(os.path.join(directory, folder, filename), cv2.IMREAD_GRAYSCALE)\n",
    "            img = cv2.resize(img, (img_size, img_size))\n",
    "            images.append(img)\n",
    "            labels.append(label)\n",
    "    images = np.array(images).reshape(-1, img_size, img_size, 1)\n",
    "    return images, labels\n",
    "\n",
    "# Load the train and test data\n",
    "train_images, train_labels = load_data(train_dir)\n",
    "test_images, test_labels = load_data(test_dir)\n",
    "\n",
    "# Normalize the pixel values of the images\n",
    "scaler = MinMaxScaler()\n",
    "train_images = scaler.fit_transform(train_images.reshape(-1, img_size*img_size))\n",
    "test_images = scaler.transform(test_images.reshape(-1, img_size*img_size))\n",
    "train_images = train_images.reshape(-1, img_size, img_size, 1)\n",
    "test_images = test_images.reshape(-1, img_size, img_size, 1)\n",
    "\n",
    "# Split the train data into training and validation sets\n",
    "train_images, val_images, train_labels, val_labels = train_test_split(train_images, train_labels, test_size=0.2, random_state=42)\n",
    "\n",
    "# Save the preprocessed images and labels as numpy arrays\n",
    "\n",
    "val_images = np.array(val_images)\n",
    "val_labels = np.array(val_labels)\n",
    "test_images = np.array(test_images)\n",
    "test_labels = np.array(test_labels)"
   ]
  },
  {
   "attachments": {},
   "cell_type": "markdown",
   "metadata": {},
   "source": [
    "### Model Creation"
   ]
  },
  {
   "cell_type": "code",
   "execution_count": 18,
   "metadata": {},
   "outputs": [
    {
     "name": "stdout",
     "output_type": "stream",
     "text": [
      "Epoch 1/10\n",
      "250/250 [==============================] - 170s 647ms/step - loss: 0.4611 - accuracy: 0.7804 - val_loss: 0.2396 - val_accuracy: 0.9000\n",
      "Epoch 2/10\n",
      "250/250 [==============================] - 153s 612ms/step - loss: 0.2252 - accuracy: 0.9080 - val_loss: 0.1914 - val_accuracy: 0.9235\n",
      "Epoch 3/10\n",
      "250/250 [==============================] - 152s 609ms/step - loss: 0.1933 - accuracy: 0.9219 - val_loss: 0.1657 - val_accuracy: 0.9365\n",
      "Epoch 4/10\n",
      "250/250 [==============================] - 153s 610ms/step - loss: 0.1542 - accuracy: 0.9373 - val_loss: 0.1316 - val_accuracy: 0.9495\n",
      "Epoch 5/10\n",
      "250/250 [==============================] - 155s 621ms/step - loss: 0.1286 - accuracy: 0.9501 - val_loss: 0.1347 - val_accuracy: 0.9490\n",
      "Epoch 6/10\n",
      "250/250 [==============================] - 150s 600ms/step - loss: 0.0918 - accuracy: 0.9659 - val_loss: 0.1462 - val_accuracy: 0.9430\n",
      "Epoch 7/10\n",
      "250/250 [==============================] - 159s 636ms/step - loss: 0.0695 - accuracy: 0.9772 - val_loss: 0.1319 - val_accuracy: 0.9500\n",
      "Epoch 8/10\n",
      "250/250 [==============================] - 162s 649ms/step - loss: 0.0526 - accuracy: 0.9812 - val_loss: 0.1882 - val_accuracy: 0.9370\n",
      "Epoch 9/10\n",
      "250/250 [==============================] - 163s 654ms/step - loss: 0.0439 - accuracy: 0.9845 - val_loss: 0.1813 - val_accuracy: 0.9505\n",
      "Epoch 10/10\n",
      "250/250 [==============================] - 150s 600ms/step - loss: 0.0321 - accuracy: 0.9886 - val_loss: 0.3652 - val_accuracy: 0.9065\n",
      "182/182 [==============================] - 18s 98ms/step - loss: 0.0320 - accuracy: 0.9909\n",
      "Test accuracy: 0.9908652305603027\n"
     ]
    }
   ],
   "source": [
    "model = keras.Sequential([\n",
    "    keras.layers.Conv2D(32, (3, 3), activation='relu', input_shape=(128, 128, 1)),\n",
    "    keras.layers.MaxPooling2D((2, 2)),\n",
    "    keras.layers.Conv2D(64, (3, 3), activation='relu'),\n",
    "    keras.layers.MaxPooling2D((2, 2)),\n",
    "    keras.layers.Conv2D(128, (3, 3), activation='relu'),\n",
    "    keras.layers.MaxPooling2D((2, 2)),\n",
    "    keras.layers.Flatten(),\n",
    "    keras.layers.Dense(128, activation='relu'),\n",
    "    keras.layers.Dense(1, activation='sigmoid')\n",
    "])\n",
    "\n",
    "train_images = np.array(train_images)\n",
    "train_labels = np.array(train_labels)\n",
    "\n",
    "# Compile the model\n",
    "model.compile(optimizer='adam',loss='binary_crossentropy', metrics=['accuracy'])\n",
    "\n",
    "# Train the model\n",
    "history = model.fit(train_images, train_labels, epochs=10, validation_data=(val_images, val_labels))\n",
    "\n",
    "# Evaluate the model on the test set\n",
    "test_loss, test_acc = model.evaluate(test_images, test_labels)\n",
    "print('Test accuracy:', test_acc)"
   ]
  },
  {
   "cell_type": "code",
   "execution_count": 9,
   "metadata": {},
   "outputs": [],
   "source": [
    "#model.save('./save')\n",
    "model = keras.models.load_model('../save')"
   ]
  },
  {
   "cell_type": "code",
   "execution_count": 28,
   "metadata": {},
   "outputs": [
    {
     "name": "stdout",
     "output_type": "stream",
     "text": [
      "2/2 [==============================] - 0s 97ms/step\n",
      "Number of Undamaged Structures: 29\n",
      "Number of Damaged Structures: 19\n"
     ]
    }
   ],
   "source": [
    "import cv2\n",
    "import numpy as np\n",
    "import tensorflow as tf\n",
    "\n",
    "# Load image\n",
    "image = cv2.imread('demo3.png')\n",
    "\n",
    "# Define window size and stride\n",
    "window_size = (128, 128)\n",
    "stride = 64\n",
    "\n",
    "# Generate windows\n",
    "windows = []\n",
    "for y in range(0, image.shape[0] - window_size[1] + 1, stride):\n",
    "    for x in range(0, image.shape[1] - window_size[0] + 1, stride):\n",
    "        window = image[y:y+window_size[1], x:x+window_size[0]]\n",
    "        windows.append(window)\n",
    "\n",
    "# Predict on windows\n",
    "resized_windows = []\n",
    "for window in windows:\n",
    "    resized_window = cv2.resize(window, window_size)\n",
    "    resized_window = cv2.cvtColor(resized_window, cv2.COLOR_BGR2GRAY)\n",
    "    # Normalize pixel values of the window\n",
    "    resized_window = scaler.transform(resized_window.reshape(-1, img_size*img_size)).reshape(img_size, img_size, 1)\n",
    "    resized_windows.append(resized_window)\n",
    "\n",
    "resized_windows = np.array(resized_windows)\n",
    "predictions = model.predict(resized_windows)\n",
    "predictions = np.squeeze(predictions)\n",
    "\n",
    "# Define colors for boxes\n",
    "green_color = (0, 255, 0)\n",
    "red_color = (0, 0, 255)\n",
    "\n",
    "# Filter predictions above a certain threshold\n",
    "threshold = 0.5\n",
    "damaged_indices = np.where(predictions > threshold)[0]\n",
    "damaged_count = 0\n",
    "undamaged_count = 0\n",
    "\n",
    "# Draw boxes on image\n",
    "for i, index in enumerate(range(0, len(windows))):\n",
    "    y = (index // ((image.shape[1] - window_size[0]) // stride)) * stride\n",
    "    x = (index % ((image.shape[1] - window_size[0]) // stride)) * stride\n",
    "    color = red_color if i in damaged_indices else green_color\n",
    "    if i in damaged_indices:\n",
    "        damaged_count +=1\n",
    "    else:\n",
    "        undamaged_count += 1\n",
    "    cv2.rectangle(image, (x, y), (x+window_size[0], y+window_size[1]), color, thickness=2)\n",
    "\n",
    "# Save image\n",
    "cv2.imwrite('your_output_image_path.jpg', image)\n",
    "\n",
    "print(f'Number of Undamaged Structures: {undamaged_count}')\n",
    "print(f'Number of Damaged Structures: {damaged_count}')\n"
   ]
  }
 ],
 "metadata": {
  "kernelspec": {
   "display_name": "base",
   "language": "python",
   "name": "python3"
  },
  "language_info": {
   "codemirror_mode": {
    "name": "ipython",
    "version": 3
   },
   "file_extension": ".py",
   "mimetype": "text/x-python",
   "name": "python",
   "nbconvert_exporter": "python",
   "pygments_lexer": "ipython3",
   "version": "3.9.13"
  },
  "orig_nbformat": 4
 },
 "nbformat": 4,
 "nbformat_minor": 2
}
